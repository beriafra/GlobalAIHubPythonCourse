{
 "cells": [
  {
   "cell_type": "code",
   "execution_count": null,
   "metadata": {},
   "outputs": [],
   "source": [
    "print(\"Task 1: \\n\")\n",
    "\n",
    "mylist = []\n",
    "num = int(input(\"Enter the amount of elements: \"))\n",
    "print(\"Type the elements of your list (line by line).\")\n",
    "for i in range (0,num):\n",
    "    elements = int(input())\n",
    "    mylist.append(elements)\n",
    "    \n",
    "mid = num//2\n",
    "first_half = mylist[:mid]\n",
    "second_half = mylist[mid:]\n",
    "\n",
    "print(second_half + first_half)\n",
    "\n",
    "\n",
    "print(\"\\nTask 2: \\n\")\n",
    "\n",
    "list\n",
    "n = int(input(\"Please enter a single digit character: \"))\n",
    "for i in range(n+1):\n",
    "    if i % 2 == 0:\n",
    "        print(i, end = \" \")\n",
    " \n",
    "\n"
   ]
  },
  {
   "cell_type": "code",
   "execution_count": null,
   "metadata": {},
   "outputs": [],
   "source": []
  }
 ],
 "metadata": {
  "kernelspec": {
   "display_name": "Python 3",
   "language": "python",
   "name": "python3"
  },
  "language_info": {
   "codemirror_mode": {
    "name": "ipython",
    "version": 3
   },
   "file_extension": ".py",
   "mimetype": "text/x-python",
   "name": "python",
   "nbconvert_exporter": "python",
   "pygments_lexer": "ipython3",
   "version": "3.7.6"
  }
 },
 "nbformat": 4,
 "nbformat_minor": 4
}
