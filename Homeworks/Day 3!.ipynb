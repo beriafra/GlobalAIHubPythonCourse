{
 "cells": [
  {
   "cell_type": "code",
   "execution_count": null,
   "metadata": {},
   "outputs": [],
   "source": [
    "login = {\"username\": \"afra_beria\" ,\n",
    "         \"password\": \"1234\"       \n",
    "        }\n",
    "username1 = input(\"Enter username: \")\n",
    "password1 = input(\"Enter your password: \")\n",
    "\n",
    "\n",
    "if (username1 != login[\"username\"] and password1 == login[\"password\"]):\n",
    "    print(\"Wrong username. Try Again.\")\n",
    "elif (username1 == login[\"username\"] and password1 != login[\"password\"]):\n",
    "    print(\"Wrong password. Try Again.\")\n",
    "elif (username1 == login[\"username\"] and password1 == login[\"password\"]):\n",
    "    print(\"Successfully logged in.\")\n",
    "\n"
   ]
  },
  {
   "cell_type": "code",
   "execution_count": null,
   "metadata": {},
   "outputs": [],
   "source": []
  },
  {
   "cell_type": "code",
   "execution_count": null,
   "metadata": {},
   "outputs": [],
   "source": []
  }
 ],
 "metadata": {
  "kernelspec": {
   "display_name": "Python 3",
   "language": "python",
   "name": "python3"
  },
  "language_info": {
   "codemirror_mode": {
    "name": "ipython",
    "version": 3
   },
   "file_extension": ".py",
   "mimetype": "text/x-python",
   "name": "python",
   "nbconvert_exporter": "python",
   "pygments_lexer": "ipython3",
   "version": "3.7.6"
  }
 },
 "nbformat": 4,
 "nbformat_minor": 4
}
