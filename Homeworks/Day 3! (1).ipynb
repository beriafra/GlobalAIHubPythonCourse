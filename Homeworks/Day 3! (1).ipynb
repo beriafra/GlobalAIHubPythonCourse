{
 "cells": [
  {
   "cell_type": "code",
   "execution_count": null,
   "metadata": {},
   "outputs": [],
   "source": [
    "credentials = {\"username\": \"afra_beria\", \"password\": \"1234\"}\n",
    "\n",
    "while True:\n",
    "    username = input(\"Enter username: \")\n",
    "    password = input(\"Enter password: \")\n",
    "\n",
    "    if username == credentials[\"username\"] and password == credentials[\"password\"]:\n",
    "        print(\"Successfully logged in.\")\n",
    "        break\n",
    "    elif username != credentials[\"username\"] and password == credentials[\"password\"]:\n",
    "        print(\"Wrong username. Try again.\")\n",
    "        continue\n",
    "    elif username == credentials[\"username\"] and password != credentials[\"password\"]:\n",
    "        print(\"Wrong password. Try again.\")\n",
    "        continue"
   ]
  },
  {
   "cell_type": "code",
   "execution_count": null,
   "metadata": {},
   "outputs": [],
   "source": []
  },
  {
   "cell_type": "code",
   "execution_count": null,
   "metadata": {},
   "outputs": [],
   "source": []
  }
 ],
 "metadata": {
  "kernelspec": {
   "display_name": "Python 3",
   "language": "python",
   "name": "python3"
  },
  "language_info": {
   "codemirror_mode": {
    "name": "ipython",
    "version": 3
   },
   "file_extension": ".py",
   "mimetype": "text/x-python",
   "name": "python",
   "nbconvert_exporter": "python",
   "pygments_lexer": "ipython3",
   "version": "3.7.6"
  }
 },
 "nbformat": 4,
 "nbformat_minor": 4
}
