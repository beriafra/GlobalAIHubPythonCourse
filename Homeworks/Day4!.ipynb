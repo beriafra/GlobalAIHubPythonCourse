{
 "cells": [
  {
   "cell_type": "code",
   "execution_count": null,
   "metadata": {},
   "outputs": [],
   "source": [
    "def create_student_record():\n",
    "    name = input(\"Name: \")\n",
    "    midterm = float(input(\"Midterm: \"))\n",
    "    project = float(input(\"Project: \"))\n",
    "    final = float(input(\"Final: \"))\n",
    "\n",
    "    return {\"name\": name, \"midterm\": midterm, \"project\": project, \"final\": final}\n",
    "\n",
    "\n",
    "def calculate_passing_grade(midterm, project, final):\n",
    "    return midterm*0.3 + project*0.3 + final*0.4\n",
    "\n",
    "\n",
    "# Prompt a user for values\n",
    "records = []\n",
    "\n",
    "for i in range(5):\n",
    "    print(f\"User #{i+1}:\")\n",
    "    records.append(create_student_record())\n",
    "\n",
    "# Create ranking based upon the passing grade\n",
    "ranking = []\n",
    "\n",
    "for record in records:\n",
    "    passing_grade = calculate_passing_grade(record[\"midterm\"], record[\"project\"], record[\"final\"])\n",
    "\n",
    "    ranking.append([passing_grade, record])\n",
    "\n",
    "# Sort the ranking by the passing grade, descending order\n",
    "ranking.sort(key=lambda r: r[0], reverse=True)\n",
    "\n",
    "# Print the ranking\n",
    "print(\"Ranking:\")\n",
    "for student in ranking:\n",
    "    print(f'Name: {student[1][\"name\"]}, passing grade: {student[0]}')"
   ]
  },
  {
   "cell_type": "code",
   "execution_count": null,
   "metadata": {},
   "outputs": [],
   "source": []
  },
  {
   "cell_type": "code",
   "execution_count": null,
   "metadata": {},
   "outputs": [],
   "source": []
  }
 ],
 "metadata": {
  "kernelspec": {
   "display_name": "Python 3",
   "language": "python",
   "name": "python3"
  },
  "language_info": {
   "codemirror_mode": {
    "name": "ipython",
    "version": 3
   },
   "file_extension": ".py",
   "mimetype": "text/x-python",
   "name": "python",
   "nbconvert_exporter": "python",
   "pygments_lexer": "ipython3",
   "version": "3.7.6"
  }
 },
 "nbformat": 4,
 "nbformat_minor": 4
}
